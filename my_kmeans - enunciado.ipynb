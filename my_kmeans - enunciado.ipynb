{
 "cells": [
  {
   "cell_type": "code",
   "execution_count": 1,
   "id": "russian-petite",
   "metadata": {},
   "outputs": [],
   "source": [
    "from IPython.display import Image, display"
   ]
  },
  {
   "cell_type": "markdown",
   "id": "sticky-strip",
   "metadata": {},
   "source": [
    "### Exercício Numpy"
   ]
  },
  {
   "cell_type": "markdown",
   "id": "emerging-franchise",
   "metadata": {},
   "source": [
    "**Objetivo**"
   ]
  },
  {
   "cell_type": "markdown",
   "id": "studied-temple",
   "metadata": {},
   "source": [
    "Separar dados em diferentes grupos utilizando a lógica do algoritmo **K-Means**"
   ]
  },
  {
   "cell_type": "markdown",
   "id": "sustainable-participation",
   "metadata": {},
   "source": [
    " "
   ]
  },
  {
   "cell_type": "markdown",
   "id": "cognitive-plenty",
   "metadata": {},
   "source": [
    "**Definição do Problema**"
   ]
  },
  {
   "cell_type": "markdown",
   "id": "collective-belief",
   "metadata": {},
   "source": [
    "Queremos um programa que receba como entrada uma matriz no formato (N, 2) e um número k de grupos"
   ]
  },
  {
   "cell_type": "code",
   "execution_count": 2,
   "id": "posted-zealand",
   "metadata": {},
   "outputs": [
    {
     "data": {
      "image/png": "[encoded data removed]",
      "text/plain": [
       "<IPython.core.display.Image object>"
      ]
     },
     "metadata": {},
     "output_type": "display_data"
    }
   ],
   "source": [
    "display(Image('imagens/numpy_1.png'))"
   ]
  },
  {
   "cell_type": "markdown",
   "id": "current-production",
   "metadata": {},
   "source": [
    "Podemos entender cada linha como um conjunto (x,y) no campo cartesiano.\n",
    "\n",
    "Logo, se eu fizessemos um gráfico desses pontos acima, teríamos:"
   ]
  },
  {
   "cell_type": "code",
   "execution_count": 17,
   "id": "received-evolution",
   "metadata": {},
   "outputs": [
    {
     "data": {
      "image/png": "[encoded data removed]",
      "text/plain": [
       "<IPython.core.display.Image object>"
      ]
     },
     "metadata": {},
     "output_type": "display_data"
    }
   ],
   "source": [
    "display(Image('imagens/numpy_2.png'))"
   ]
  },
  {
   "cell_type": "markdown",
   "id": "intelligent-gossip",
   "metadata": {},
   "source": [
    "O objetivo é **calcular rótulos** para cada um desses pontos, de forma que, no final, possamos separá-los.\n",
    "\n",
    "Por exemplo, se quisessemos 2 grupos distintos (k = 2), teríamos:"
   ]
  },
  {
   "cell_type": "code",
   "execution_count": 18,
   "id": "convenient-mason",
   "metadata": {
    "scrolled": true
   },
   "outputs": [
    {
     "data": {
      "image/png": "[encoded data removed]",
      "text/plain": [
       "<IPython.core.display.Image object>"
      ]
     },
     "metadata": {},
     "output_type": "display_data"
    }
   ],
   "source": [
    "display(Image('imagens/numpy_3.png'))"
   ]
  },
  {
   "cell_type": "markdown",
   "id": "homeless-rider",
   "metadata": {},
   "source": [
    "Cada grupo recebe uma cor diferente.\n",
    "\n",
    "Já para 3 grupos (k = 3), teríamos:"
   ]
  },
  {
   "cell_type": "code",
   "execution_count": 19,
   "id": "velvet-adelaide",
   "metadata": {},
   "outputs": [
    {
     "data": {
      "image/png": "[encoded data removed]",
      "text/plain": [
       "<IPython.core.display.Image object>"
      ]
     },
     "metadata": {},
     "output_type": "display_data"
    }
   ],
   "source": [
    "display(Image('imagens/numpy_4.png'))"
   ]
  },
  {
   "cell_type": "markdown",
   "id": "dirty-orlando",
   "metadata": {},
   "source": [
    "Note que **não** precisamos ter a **mesma quantidade** de pontos em cada grupo!"
   ]
  },
  {
   "cell_type": "markdown",
   "id": "russian-plastic",
   "metadata": {},
   "source": [
    " "
   ]
  },
  {
   "cell_type": "markdown",
   "id": "virgin-membrane",
   "metadata": {},
   "source": [
    "### **Parte 1**"
   ]
  },
  {
   "cell_type": "markdown",
   "id": "detected-action",
   "metadata": {},
   "source": [
    "A primeira parte da resolução do problema consiste em gerar um array com a informação do grupo de cada um dos pontos.\n",
    "\n",
    "Para isso você deve criar uma função com a seguinte assinatura:"
   ]
  },
  {
   "cell_type": "code",
   "execution_count": 1,
   "id": "e9b0a56d",
   "metadata": {},
   "outputs": [],
   "source": [
    "import numpy as np\n",
    "import matplotlib.pyplot as plt\n"
   ]
  },
  {
   "cell_type": "code",
   "execution_count": 2,
   "id": "temporal-toddler",
   "metadata": {},
   "outputs": [],
   "source": [
    "def grouping(data, k = 2, max_iter = 100, verbose = False):\n",
    "    '''\n",
    "    Função que separa os dados em diferentes classes\n",
    "    \n",
    "    Params:\n",
    "        data (np.array): Conjunto de N pontos (x, y)\n",
    "        k (int): Definição do número de grupos em que os dados serão separados (k >= 1)\n",
    "        max_inter (int): Limitador do número de iterações\n",
    "        \n",
    "    Returns:\n",
    "        grupos (np.array): Array com o a informação de grupo de cada um dos pontos    \n",
    "    '''\n",
    "    centroides = estimar_centroide_inicial(data, k)\n",
    "\n",
    "    i = 0\n",
    "    parar_loop = False\n",
    "    while not parar_loop:\n",
    "        i += 1 \n",
    "        matriz_distancias = calcular_martriz_distancias(data, centroides)\n",
    "        agrupamento = agrupar_por_distancia(matriz_distancias)\n",
    "        centroides_novos = calcular_centroide(data, agrupamento)\n",
    "        convergido = np.array_equal(centroides_novos, centroides)\n",
    "        centroides = centroides_novos\n",
    "        acancado_limite = i >= max_iter\n",
    "        parar_loop = convergido or acancado_limite\n",
    "        \n",
    "        if verbose:\n",
    "            print(f'Interação {i}: Agrupamento: {agrupamento}.')\n",
    "    \n",
    "    return agrupamento\n",
    "\n",
    "\n",
    "def estimar_centroide_inicial(data, k):\n",
    "    max_values = data.max(axis=0)\n",
    "    min_values = data.min(axis=0)\n",
    "    n_features = data.shape[1]\n",
    "\n",
    "    return np.random.uniform(low=min_values, high=max_values, size=(k,n_features))\n",
    "\n",
    "def calcular_martriz_distancias(data,centroides):\n",
    "    n_pontos = data.shape[0]\n",
    "    k = centroides.shape[0]\n",
    "    matriz_distancias = np.ones((n_pontos,k))\n",
    "    for row, ponto in enumerate(data):\n",
    "        for col, centroide in enumerate(centroides):\n",
    "            matriz_distancias[row,col] = np.sqrt(np.sum(np.square(ponto-centroide)))\n",
    "            \n",
    "    return matriz_distancias    \n",
    "\n",
    "def agrupar_por_distancia(matriz_distancias):\n",
    "    return np.argmin(matriz_distancias,axis=1)\n",
    "\n",
    "def calcular_centroide(data,agrupamento):\n",
    "    k = 1 + agrupamento.max()\n",
    "    n_features = data.shape[1]\n",
    "    centroides = np.ones((k,n_features))\n",
    "    for centroide_calculado in range(k):\n",
    "        mascara = agrupamento == centroide_calculado\n",
    "        centroides[centroide_calculado] = data[mascara].mean(axis=0)\n",
    "        \n",
    "    return centroides\n",
    "\n",
    "\n",
    "def kplot_2d(data, agrupamento):\n",
    "  plt.figure(figsize=(6, 6))\n",
    "  plt.scatter(data[:,0], data[:,1], s = 50, c=plt.cm.tab20(agrupamento))\n",
    "  plt.show()"
   ]
  },
  {
   "cell_type": "markdown",
   "id": "overall-satin",
   "metadata": {},
   "source": [
    "O argumento **max_iter** serve para não entrarmos em um **loop infinito**. Logo, seu código deve rodar no máximo max_iter vezes.\n",
    "\n",
    "Um possível retorno considerando, por exemplo, k = 3, seria:"
   ]
  },
  {
   "cell_type": "code",
   "execution_count": 4,
   "id": "3c96747a",
   "metadata": {},
   "outputs": [],
   "source": [
    "np.random.seed(42)\n",
    "data = np.random.rand(300,2)\n",
    "k = 10\n",
    "\n",
    "agrupamento = grouping(data, k = k, max_iter = 100)"
   ]
  },
  {
   "cell_type": "code",
   "execution_count": 5,
   "id": "23c897c0",
   "metadata": {},
   "outputs": [
    {
     "data": {
      "text/plain": [
       "array([4, 9, 8, 5, 4, 5, 6, 8, 2, 1, 6, 0, 4, 2, 6, 6, 5, 7, 1, 3, 2, 5,\n",
       "       2, 2, 1, 7, 7, 4, 8, 0, 1, 9, 2, 5, 5, 6, 5, 7, 6, 1, 9, 1, 0, 9,\n",
       "       9, 2, 9, 9, 3, 8, 2, 2, 6, 4, 8, 1, 7, 4, 6, 9, 7, 1, 0, 7, 2, 1,\n",
       "       0, 9, 4, 4, 6, 3, 1, 3, 0, 6, 2, 6, 4, 2, 4, 3, 5, 1, 2, 6, 1, 6,\n",
       "       3, 6, 1, 7, 2, 9, 1, 5, 9, 0, 7, 7, 6, 5, 6, 2, 8, 4, 6, 6, 4, 4,\n",
       "       3, 0, 0, 9, 9, 9, 3, 2, 1, 6, 7, 9, 5, 4, 7, 0, 9, 2, 7, 6, 4, 2,\n",
       "       7, 7, 1, 7, 7, 3, 9, 7, 9, 1, 6, 3, 2, 8, 9, 2, 6, 6, 2, 4, 7, 3,\n",
       "       6, 1, 5, 7, 1, 0, 4, 6, 7, 3, 1, 4, 8, 8, 7, 1, 3, 0, 4, 6, 4, 4,\n",
       "       6, 2, 2, 9, 4, 3, 9, 7, 8, 8, 2, 0, 6, 6, 2, 4, 7, 1, 7, 9, 4, 4,\n",
       "       9, 7, 5, 4, 4, 1, 6, 4, 9, 3, 0, 4, 7, 2, 2, 4, 1, 5, 6, 2, 5, 6,\n",
       "       5, 3, 7, 7, 1, 9, 4, 2, 2, 8, 2, 9, 9, 5, 5, 5, 5, 4, 2, 9, 4, 4,\n",
       "       4, 0, 7, 4, 1, 3, 6, 7, 9, 4, 6, 7, 7, 3, 7, 8, 4, 6, 3, 7, 9, 1,\n",
       "       5, 7, 9, 7, 6, 1, 9, 2, 3, 2, 4, 4, 3, 9, 8, 9, 6, 8, 2, 3, 9, 4,\n",
       "       4, 7, 5, 1, 4, 3, 6, 8, 8, 2, 0, 9, 6, 8], dtype=int64)"
      ]
     },
     "execution_count": 5,
     "metadata": {},
     "output_type": "execute_result"
    }
   ],
   "source": [
    "agrupamento"
   ]
  },
  {
   "cell_type": "code",
   "execution_count": 20,
   "id": "arabic-failing",
   "metadata": {},
   "outputs": [
    {
     "data": {
      "image/png": "[encoded data removed]",
      "text/plain": [
       "<IPython.core.display.Image object>"
      ]
     },
     "metadata": {},
     "output_type": "display_data"
    }
   ],
   "source": [
    "display(Image('imagens/numpy_5.png'))"
   ]
  },
  {
   "cell_type": "markdown",
   "id": "opening-district",
   "metadata": {},
   "source": [
    "### **Parte 2**"
   ]
  },
  {
   "cell_type": "markdown",
   "id": "homeless-rubber",
   "metadata": {},
   "source": [
    "A segunda parte do problema consiste em gerar o resultado da separação dos grupos de maneira gráfica.\n",
    "\n",
    "Utilize a ferramenta gráfica que preferir. Seu código deve ser capaz de gerar um resultado gráfico para uma grande quantidade de dados:"
   ]
  },
  {
   "cell_type": "code",
   "execution_count": 27,
   "id": "empty-cream",
   "metadata": {},
   "outputs": [
    {
     "data": {
      "image/png": "[encoded data removed]",
      "text/plain": [
       "<IPython.core.display.Image object>"
      ]
     },
     "metadata": {},
     "output_type": "display_data"
    }
   ],
   "source": [
    "display(Image('imagens/numpy_6.png'))"
   ]
  },
  {
   "cell_type": "code",
   "execution_count": 6,
   "id": "ec81fa11",
   "metadata": {},
   "outputs": [
    {
     "data": {
      "image/png": "[encoded data removed]",
      "text/plain": [
       "<Figure size 432x432 with 1 Axes>"
      ]
     },
     "metadata": {
      "needs_background": "light"
     },
     "output_type": "display_data"
    }
   ],
   "source": [
    "kplot_2d(data, agrupamento)"
   ]
  },
  {
   "cell_type": "markdown",
   "id": "eastern-remainder",
   "metadata": {},
   "source": [
    " "
   ]
  },
  {
   "cell_type": "markdown",
   "id": "lightweight-seventh",
   "metadata": {},
   "source": [
    " "
   ]
  },
  {
   "cell_type": "markdown",
   "id": "given-queue",
   "metadata": {},
   "source": [
    " "
   ]
  },
  {
   "cell_type": "markdown",
   "id": "closing-model",
   "metadata": {},
   "source": [
    " "
   ]
  },
  {
   "cell_type": "markdown",
   "id": "determined-feedback",
   "metadata": {},
   "source": [
    " "
   ]
  },
  {
   "cell_type": "markdown",
   "id": "complicated-cleaners",
   "metadata": {},
   "source": [
    " "
   ]
  },
  {
   "cell_type": "markdown",
   "id": "intimate-prague",
   "metadata": {},
   "source": [
    " "
   ]
  },
  {
   "cell_type": "markdown",
   "id": "leading-cotton",
   "metadata": {},
   "source": [
    " "
   ]
  },
  {
   "cell_type": "markdown",
   "id": "wooden-tracy",
   "metadata": {},
   "source": [
    " "
   ]
  },
  {
   "cell_type": "markdown",
   "id": "environmental-tongue",
   "metadata": {},
   "source": [
    " "
   ]
  },
  {
   "cell_type": "markdown",
   "id": "plastic-budapest",
   "metadata": {},
   "source": [
    " "
   ]
  },
  {
   "cell_type": "markdown",
   "id": "awful-airline",
   "metadata": {},
   "source": [
    " "
   ]
  },
  {
   "cell_type": "markdown",
   "id": "offensive-encounter",
   "metadata": {},
   "source": [
    " "
   ]
  },
  {
   "cell_type": "markdown",
   "id": "found-japan",
   "metadata": {},
   "source": [
    " "
   ]
  },
  {
   "cell_type": "markdown",
   "id": "piano-hammer",
   "metadata": {},
   "source": [
    " "
   ]
  },
  {
   "cell_type": "markdown",
   "id": "fitted-covering",
   "metadata": {},
   "source": [
    " "
   ]
  },
  {
   "cell_type": "markdown",
   "id": "seeing-leave",
   "metadata": {},
   "source": [
    " "
   ]
  },
  {
   "cell_type": "markdown",
   "id": "pacific-standing",
   "metadata": {},
   "source": [
    " "
   ]
  },
  {
   "cell_type": "markdown",
   "id": "retained-musician",
   "metadata": {},
   "source": [
    " "
   ]
  },
  {
   "cell_type": "markdown",
   "id": "defined-enzyme",
   "metadata": {},
   "source": [
    " "
   ]
  },
  {
   "cell_type": "markdown",
   "id": "advanced-museum",
   "metadata": {},
   "source": [
    " "
   ]
  },
  {
   "cell_type": "markdown",
   "id": "processed-aquarium",
   "metadata": {},
   "source": [
    " "
   ]
  },
  {
   "cell_type": "markdown",
   "id": "sticky-discovery",
   "metadata": {},
   "source": [
    " "
   ]
  },
  {
   "cell_type": "markdown",
   "id": "decimal-candle",
   "metadata": {},
   "source": [
    " "
   ]
  },
  {
   "cell_type": "markdown",
   "id": "operating-change",
   "metadata": {},
   "source": [
    " "
   ]
  },
  {
   "cell_type": "markdown",
   "id": "another-beverage",
   "metadata": {},
   "source": [
    " "
   ]
  },
  {
   "cell_type": "markdown",
   "id": "improved-denial",
   "metadata": {},
   "source": [
    " "
   ]
  },
  {
   "cell_type": "markdown",
   "id": "thousand-effort",
   "metadata": {},
   "source": [
    " "
   ]
  },
  {
   "cell_type": "markdown",
   "id": "chinese-advertiser",
   "metadata": {},
   "source": [
    " "
   ]
  },
  {
   "cell_type": "markdown",
   "id": "agricultural-outreach",
   "metadata": {},
   "source": [
    " "
   ]
  },
  {
   "cell_type": "markdown",
   "id": "alternative-doubt",
   "metadata": {},
   "source": [
    " "
   ]
  },
  {
   "cell_type": "markdown",
   "id": "divided-watershed",
   "metadata": {},
   "source": [
    " "
   ]
  },
  {
   "cell_type": "markdown",
   "id": "pretty-separate",
   "metadata": {},
   "source": [
    " "
   ]
  },
  {
   "cell_type": "markdown",
   "id": "political-anger",
   "metadata": {},
   "source": [
    " "
   ]
  },
  {
   "cell_type": "markdown",
   "id": "burning-consumer",
   "metadata": {},
   "source": [
    " "
   ]
  },
  {
   "cell_type": "markdown",
   "id": "looking-shepherd",
   "metadata": {},
   "source": [
    " "
   ]
  },
  {
   "cell_type": "markdown",
   "id": "fundamental-pollution",
   "metadata": {},
   "source": [
    " "
   ]
  },
  {
   "cell_type": "markdown",
   "id": "established-marking",
   "metadata": {},
   "source": [
    " "
   ]
  },
  {
   "cell_type": "markdown",
   "id": "destroyed-ancient",
   "metadata": {},
   "source": [
    " "
   ]
  },
  {
   "cell_type": "markdown",
   "id": "coastal-rebecca",
   "metadata": {},
   "source": [
    " "
   ]
  },
  {
   "cell_type": "markdown",
   "id": "constitutional-pricing",
   "metadata": {},
   "source": [
    " "
   ]
  },
  {
   "cell_type": "markdown",
   "id": "confused-harris",
   "metadata": {},
   "source": [
    " "
   ]
  },
  {
   "cell_type": "markdown",
   "id": "employed-stack",
   "metadata": {},
   "source": [
    " "
   ]
  },
  {
   "cell_type": "markdown",
   "id": "textile-punch",
   "metadata": {},
   "source": [
    "### **Passo a passo do algoritmo**"
   ]
  },
  {
   "cell_type": "markdown",
   "id": "homeless-turning",
   "metadata": {},
   "source": [
    "**Passo 1: Fornecer valores para os centróides**"
   ]
  },
  {
   "cell_type": "markdown",
   "id": "existing-metropolitan",
   "metadata": {},
   "source": [
    "Centróides nada mais são do que pontos centrais aos grupos que serão criados.\n",
    "\n",
    "Neste passo devemos criar os k centróides, que devem receber valores iniciais.\n",
    "\n",
    "Uma possível escolha inicial são números aleatórios no intervalo do menor número dos dados e do maior número dos dados."
   ]
  },
  {
   "cell_type": "markdown",
   "id": "different-tomato",
   "metadata": {},
   "source": [
    " "
   ]
  },
  {
   "cell_type": "markdown",
   "id": "second-voice",
   "metadata": {},
   "source": [
    "**Passo 2: Gerar uma matriz de distância entre cada ponto e os centróides**"
   ]
  },
  {
   "cell_type": "markdown",
   "id": "fabulous-jenny",
   "metadata": {},
   "source": [
    "Neste passo, a distância euclidiana entre cada ponto e os centróides é calculada. A parte mais “pesada” de cálculos ocorre neste passo pois se temos N pontos e k centróides teremos que calcular N x k distâncias neste passo."
   ]
  },
  {
   "cell_type": "markdown",
   "id": "diagnostic-intervention",
   "metadata": {},
   "source": [
    " "
   ]
  },
  {
   "cell_type": "markdown",
   "id": "disabled-native",
   "metadata": {},
   "source": [
    "**Passo 3: Colocar cada ponto nas classes de acordo com a sua distância do centróide da classe**"
   ]
  },
  {
   "cell_type": "markdown",
   "id": "aging-teens",
   "metadata": {},
   "source": [
    "Aqui, os pontos são classificados de acordo com sua distância dos centróides de cada classe. A classificação funciona assim: o centróide que está mais perto deste ponto vai “incorporá-lo”, ou seja, o ponto vai pertencer à classe representada pelo centróide que está mais perto do ponto.\n",
    "\n",
    "É importante dizer que o algoritmo termina se nenhum ponto “mudar” de classe depois de uma iteração antes que o max_iter seja alcançado, ou seja, se nenhum ponto for “incorporado” a uma classe diferente da que ele estava antes deste passo.\n",
    "\n",
    "Exemplo: temos os pontos A-I e os centróides 0 e 1."
   ]
  },
  {
   "cell_type": "markdown",
   "id": "mechanical-humidity",
   "metadata": {},
   "source": [
    "Ponto   | Distância Centróide 0 | Distância Centróide 1\n",
    "--------- | ------ | ------\n",
    "A | 5 | 8\n",
    "B | 13 | 10\n",
    "C | 16 | 11\n",
    "D | 11 | 8\n",
    "E | 8 | 12\n",
    "F | 15 | 8\n",
    "G | 25 | 20\n",
    "H | 30 | 25\n",
    "I | 32 | 27"
   ]
  },
  {
   "cell_type": "markdown",
   "id": "saving-vancouver",
   "metadata": {},
   "source": [
    "* A e E ficam com centróide 0\n",
    "* Demais ficam com centróide 1\n",
    "\n",
    "Exemplo visual:"
   ]
  },
  {
   "cell_type": "code",
   "execution_count": 24,
   "id": "unsigned-sculpture",
   "metadata": {},
   "outputs": [
    {
     "data": {
      "image/png": "[encoded data removed]",
      "text/plain": [
       "<IPython.core.display.Image object>"
      ]
     },
     "metadata": {},
     "output_type": "display_data"
    }
   ],
   "source": [
    "display(Image('imagens/numpy_7.png'))"
   ]
  },
  {
   "cell_type": "markdown",
   "id": "proof-cyprus",
   "metadata": {},
   "source": [
    " "
   ]
  },
  {
   "cell_type": "markdown",
   "id": "vertical-humidity",
   "metadata": {},
   "source": [
    "**Passo 4: Calcular os novos centróides para cada classe**"
   ]
  },
  {
   "cell_type": "markdown",
   "id": "sapphire-superintendent",
   "metadata": {},
   "source": [
    "Neste momento, os valores das coordenadas dos centróides são refinados. Para cada classe que possui mais de um ponto o novo valor dos centróides é calculado fazendo-se a média de cada atributo de todos os pontos que pertencem a esta classe.\n",
    "\n",
    "Exemplo visual:"
   ]
  },
  {
   "cell_type": "code",
   "execution_count": 25,
   "id": "wrapped-dressing",
   "metadata": {},
   "outputs": [
    {
     "data": {
      "image/png": "[encoded data removed]",
      "text/plain": [
       "<IPython.core.display.Image object>"
      ]
     },
     "metadata": {},
     "output_type": "display_data"
    }
   ],
   "source": [
    "display(Image('imagens/numpy_8.png'))"
   ]
  },
  {
   "cell_type": "markdown",
   "id": "turkish-factor",
   "metadata": {},
   "source": [
    " "
   ]
  },
  {
   "cell_type": "markdown",
   "id": "junior-dress",
   "metadata": {},
   "source": [
    "**Passo 5: Repetir até a convergência**"
   ]
  },
  {
   "cell_type": "markdown",
   "id": "catholic-venue",
   "metadata": {},
   "source": [
    "O algoritmo volta para o **Passo 2** repetindo iterativamente o refinamento do cálculo das coordenadas dos centróides até o máximo de max_iter ou nenhum ponto mudar de rótulo (centróide).\n",
    "\n",
    "Desta maneira, teremos uma classificação que coloca cada ponto em apenas uma classe."
   ]
  },
  {
   "cell_type": "code",
   "execution_count": null,
   "id": "sitting-subsection",
   "metadata": {},
   "outputs": [],
   "source": []
  }
 ],
 "metadata": {
  "kernelspec": {
   "display_name": "Python 3 (ipykernel)",
   "language": "python",
   "name": "python3"
  },
  "language_info": {
   "codemirror_mode": {
    "name": "ipython",
    "version": 3
   },
   "file_extension": ".py",
   "mimetype": "text/x-python",
   "name": "python",
   "nbconvert_exporter": "python",
   "pygments_lexer": "ipython3",
   "version": "3.8.6"
  }
 },
 "nbformat": 4,
 "nbformat_minor": 5
}
