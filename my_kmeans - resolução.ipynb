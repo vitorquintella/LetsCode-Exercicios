{
 "cells": [
  {
   "cell_type": "code",
   "execution_count": 1,
   "id": "e9b0a56d",
   "metadata": {},
   "outputs": [],
   "source": [
    "import numpy as np\n",
    "import matplotlib.pyplot as plt"
   ]
  },
  {
   "cell_type": "code",
   "execution_count": 155,
   "id": "temporal-toddler",
   "metadata": {},
   "outputs": [],
   "source": [
    "def grouping(data, k=2, max_iter=100, distancia = 'euclidiana_numpy'):\n",
    "    \"\"\"\n",
    "    Função que separa os dados em diferentes classes\n",
    "\n",
    "    Params:\n",
    "        data (np.array): Conjunto de N pontos (x, y)\n",
    "        k (int): Definição do número de grupos em que os dados serão separados (k >= 1)\n",
    "        max_inter (int): Limitador do número de iterações\n",
    "        distancia (str): 'euclidiana_numpy' ou 'euclidiana'; onde 'euclidiana_numpy' é mais eficiente\n",
    "\n",
    "    Returns:\n",
    "        grupos (np.array): Array com o a informação de grupo de cada um dos pontos\n",
    "    \"\"\"\n",
    "    centroides = estimar_centroide_inicial(data, k)\n",
    "    i = 0\n",
    "    parar_loop = False\n",
    "    while not parar_loop:\n",
    "        i += 1\n",
    "        matriz_distancias = calcular_matriz_distancias(data, centroides, distancia)    \n",
    "        agrupamento = agrupar_por_distancia(matriz_distancias)\n",
    "        centroides_novos = calcular_centroide(data, agrupamento)\n",
    "        convergido = np.array_equal(centroides_novos, centroides)\n",
    "        centroides = centroides_novos\n",
    "        alcancado_limite = i >= max_iter\n",
    "        parar_loop = convergido or alcancado_limite\n",
    "    return agrupamento\n",
    "\n",
    "\n",
    "def estimar_centroide_inicial(data, k):\n",
    "    max_values = data.max(axis=0)\n",
    "    min_values = data.min(axis=0)\n",
    "    n_features = data.shape[1]\n",
    "    return np.random.uniform(low=min_values, high=max_values, size=(k, n_features))\n",
    "\n",
    "\n",
    "def calcular_matriz_distancias(data, centroides, distancia):\n",
    "    if distancia == 'euclidiana_numpy':\n",
    "        matriz_distancias = calcular_matriz_distancias_np(data, centroides)\n",
    "    elif distancia == 'euclidiana':\n",
    "        matriz_distancias = calcular_matriz_distancias_loops(data, centroides)\n",
    "    else:\n",
    "        raise Exception(\"Distancia escolhida esta prevista.\")\n",
    "    return matriz_distancias\n",
    "\n",
    "def calcular_matriz_distancias_loops(data, centroides):\n",
    "    n_pontos = data.shape[0]\n",
    "    k = centroides.shape[0]\n",
    "    matriz_distancias = np.ones((n_pontos, k))\n",
    "    for row, ponto in enumerate(data):\n",
    "        for col, centroide in enumerate(centroides):\n",
    "            matriz_distancias[row, col] = np.sqrt(np.sum(np.square(ponto - centroide)))\n",
    "    return matriz_distancias\n",
    "\n",
    "\n",
    "def calcular_matriz_distancias_np(data, centroides):\n",
    "    \"\"\" Utiliza o broadcasting do numpy para realizar o calculo sem loops no python.\n",
    "    Deste modo todos os loops são transferidos para o C.\n",
    "    \n",
    "    data: np.array com dimensões (n_dados, n_features) \n",
    "    centroides: np.array com dimensões (n_k, n_features) \n",
    "    \"\"\"\n",
    "    # Primeiro todos os são expandidos para uma dimensão a mais.\n",
    "    # data_expandido, dimensões:(n_dados, 1, n_features))\n",
    "    # centroides_expandido, dimensões: (1, n_k, n_features))\n",
    "    data_expandido = np.expand_dims(data, 1) \n",
    "    centroides_expandido = np.expand_dims(centroides, 0)\n",
    "    # Como cada dimensão nova possui dimensão 1, a operação entre eles é feita através de brodcasting \n",
    "    # cubo_de_diferencas, dimensões: (n_dados, n_k, n_features))\n",
    "    cubo_de_diferencas = (data_expandido - centroides_expandido)\n",
    "    # A dimensão excedente é a dimensão original n_features.\n",
    "    # Sobre o qual calculamos a distância euclidiana.\n",
    "    # matriz_distancias, dimensões: (n_k, n_dados))\n",
    "    matriz_distancias = (cubo_de_diferencas ** 2).sum(axis=2) ** 0.5\n",
    "    return matriz_distancias\n",
    "\n",
    "\n",
    "def agrupar_por_distancia(matriz_distancias):\n",
    "    return np.argmin(matriz_distancias, axis=1)\n",
    "\n",
    "\n",
    "def calcular_centroide(data, agrupamento):\n",
    "    k = 1 + agrupamento.max()\n",
    "    n_features = data.shape[1]\n",
    "    centroides = np.ones((k, n_features))\n",
    "    for centroide_calculado in range(k):\n",
    "        mascara = agrupamento == centroide_calculado\n",
    "        centroides[centroide_calculado] = data[mascara].mean(axis=0)  \n",
    "    return centroides\n",
    "\n",
    "\n",
    "def k_plot_2d(data, agrupamento):\n",
    "    plt.figure(figsize=(6, 6))\n",
    "    plt.scatter(data[:, 0], data[:, 1], s=50, c=plt.cm.tab20(agrupamento))\n",
    "    plt.show()"
   ]
  },
  {
   "cell_type": "code",
   "execution_count": 156,
   "id": "3c96747a",
   "metadata": {},
   "outputs": [
    {
     "data": {
      "image/png": "[encoded data removed]",
      "text/plain": [
       "<Figure size 432x432 with 1 Axes>"
      ]
     },
     "metadata": {
      "needs_background": "light"
     },
     "output_type": "display_data"
    }
   ],
   "source": [
    "np.random.seed(42)\n",
    "data = np.random.rand(10,2)\n",
    "k = 2\n",
    "\n",
    "agrupamento = grouping(data, k = k, max_iter = 100)\n",
    "k_plot_2d(data, agrupamento)"
   ]
  }
 ],
 "metadata": {
  "kernelspec": {
   "display_name": "Python 3 (ipykernel)",
   "language": "python",
   "name": "python3"
  },
  "language_info": {
   "codemirror_mode": {
    "name": "ipython",
    "version": 3
   },
   "file_extension": ".py",
   "mimetype": "text/x-python",
   "name": "python",
   "nbconvert_exporter": "python",
   "pygments_lexer": "ipython3",
   "version": "3.8.6"
  }
 },
 "nbformat": 4,
 "nbformat_minor": 5
}
